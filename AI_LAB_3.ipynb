{
  "nbformat": 4,
  "nbformat_minor": 0,
  "metadata": {
    "colab": {
      "provenance": []
    },
    "kernelspec": {
      "name": "python3",
      "display_name": "Python 3"
    },
    "language_info": {
      "name": "python"
    }
  },
  "cells": [
    {
      "cell_type": "code",
      "execution_count": 1,
      "metadata": {
        "colab": {
          "base_uri": "https://localhost:8080/"
        },
        "id": "lElRq8ejrmlh",
        "outputId": "eed387d8-82b5-487a-c33b-1f9f0c8f4427"
      },
      "outputs": [
        {
          "output_type": "stream",
          "name": "stdout",
          "text": [
            "Stack Representation at each step:\n",
            "Step 1: ['A']\n",
            "Step 2: ['F', 'A']\n",
            "Step 3: ['E', 'F', 'A']\n",
            "Step 4: ['C', 'F', 'A']\n",
            "Step 5: ['C', 'A']\n",
            "Step 6: ['E', 'C', 'A']\n",
            "Step 7: ['D', 'C', 'A']\n",
            "Step 8: ['B', 'C', 'A']\n",
            "Step 9: ['B', 'A']\n",
            "Step 10: ['D', 'B', 'A']\n",
            "Step 11: ['C', 'B', 'A']\n"
          ]
        }
      ],
      "source": [
        "def depth_limited_search(graph, current, limit, depth=0, path=None, stack_trace=None):\n",
        "    if path is None:\n",
        "        path = []\n",
        "    if stack_trace is None:\n",
        "        stack_trace = []\n",
        "\n",
        "    path.append(current)\n",
        "    stack_trace.append(list(reversed(path)))\n",
        "\n",
        "    if depth == limit:\n",
        "        return\n",
        "\n",
        "    for neighbor in graph.get(current, []):\n",
        "        depth_limited_search(graph, neighbor, limit, depth + 1, path, stack_trace)\n",
        "        path.pop()\n",
        "\n",
        "    return stack_trace\n",
        "\n",
        "graph = {\n",
        "    'A': ['F', 'C', 'B'],\n",
        "    'F': ['E', 'C'],\n",
        "    'C': ['E', 'D', 'B'],\n",
        "    'B': ['D', 'C'],\n",
        "    'E': [],\n",
        "    'D': []\n",
        "}\n",
        "\n",
        "start_node = 'A'\n",
        "depth_limit = 2\n",
        "\n",
        "stack_trace = depth_limited_search(graph, start_node, depth_limit)\n",
        "\n",
        "print(\"Stack Representation at each step:\")\n",
        "for i, stack in enumerate(stack_trace):\n",
        "    print(f\"Step {i+1}: {stack}\")"
      ]
    }
  ]
}